{
 "cells": [
  {
   "cell_type": "code",
   "execution_count": 23,
   "metadata": {
    "collapsed": true
   },
   "outputs": [],
   "source": [
    "%matplotlib inline"
   ]
  },
  {
   "cell_type": "markdown",
   "metadata": {},
   "source": [
    "# Modeling Static Friction"
   ]
  },
  {
   "cell_type": "markdown",
   "metadata": {},
   "source": [
    "### Introduction:"
   ]
  },
  {
   "cell_type": "markdown",
   "metadata": {},
   "source": [
    "From everyday experience, we know that it takes a certain amount of force to overcome friction and get an object sliding. The goal of this investigation is to model the dependence of this maximum static frictional force on the mass of the object in question."
   ]
  },
  {
   "cell_type": "markdown",
   "metadata": {},
   "source": [
    "### Procedure:"
   ]
  },
  {
   "cell_type": "markdown",
   "metadata": {},
   "source": [
    "We attached a spring scale to the side of a hollow box on a level surface. Adding additional masses, we measured the amount of force it took to get the box to begin to slide. "
   ]
  },
  {
   "cell_type": "markdown",
   "metadata": {},
   "source": [
    "<figure>\n",
    "    <img src=\"img/Friction Apparatus.png\" width=400px/>\n",
    "    <figcaption style=\"text-align:center; font-size: 12px\">Fig. 1 - Sketch of the apparatus</figcaption>\n",
    "</figure>"
   ]
  },
  {
   "cell_type": "markdown",
   "metadata": {},
   "source": [
    "<figure>\n",
    "    <img src=\"img/Apparatus Photo.jpg\" width=400px/>\n",
    "    <figcaption style=\"text-align:center; font-size: 12px;\">Fig. 2 - Photo of the apparatus</figcaption>\n",
    "</figure>"
   ]
  },
  {
   "cell_type": "markdown",
   "metadata": {
    "collapsed": true
   },
   "source": [
    "### Data and Analysis:"
   ]
  },
  {
   "cell_type": "markdown",
   "metadata": {},
   "source": [
    "| $m_{added}$   | $F_{sp}$| $F_{s}$| $F_{n}$|\n",
    "|-----|-------|\n",
    "|100|0.7| 0.504| 0.958|\n",
    "|200|1.0| 0.6| 1.917|\n",
    "|300|1.3| 0.712| 2.875|\n",
    "|400|1.5| 0.716| 3.834|\n",
    "|500|1.7| 0.72| 4.793|\n",
    "\n",
    "\n"
   ]
  },
  {
   "cell_type": "code",
   "execution_count": 24,
   "metadata": {
    "collapsed": false
   },
   "outputs": [
    {
     "name": "stdout",
     "output_type": "stream",
     "text": [
      "0.00274999999865\n"
     ]
    },
    {
     "data": {
      "image/png": "[encoded data removed]",
      "text/plain": [
       "<matplotlib.figure.Figure at 0x601b278>"
      ]
     },
     "metadata": {},
     "output_type": "display_data"
    },
    {
     "name": "stdout",
     "output_type": "stream",
     "text": [
      "0.00274999999865\n"
     ]
    },
    {
     "data": {
      "image/png": "[encoded data removed]",
      "text/plain": [
       "<matplotlib.figure.Figure at 0x59d17b8>"
      ]
     },
     "metadata": {},
     "output_type": "display_data"
    }
   ],
   "source": [
    "import matplotlib.pyplot as plt\n",
    "import numpy as np\n",
    "from scipy.optimize import curve_fit\n",
    "\n",
    "m= [100, 200, 300, 400, 500]\n",
    "f= [1.05, 1.3, 1.65, 1.85, 2.15]\n",
    "\n",
    "m2 = [100, 200, 300, 400, 500]\n",
    "f2 = [0.7, 1.0, 1.3, 1.5, 1.7]\n",
    "\n",
    "\n",
    "mm = np.linspace(-200, 550, 500)\n",
    "\n",
    "def linear(x, a, b):\n",
    "    return a*x + b\n",
    "\n",
    "a,b = curve_fit(linear, m, f)[0] \n",
    "c,d = curve_fit(linear, m2, f2)[0]\n",
    "\n",
    "print(a)\n",
    "plt.xlim(-200, 600)\n",
    "plt.title(\"Modeling Static Friction With Ramp\")\n",
    "plt.xlabel(\"Mass Added (g)\")\n",
    "plt.ylabel(\"Max Frictional Force (N)\")\n",
    "plt.plot(m, f, \"*\")\n",
    "plt.plot(m2, f2, \"o\")\n",
    "plt.plot(mm, linear(mm, a, b), '--')\n",
    "plt.plot(mm, linear(mm, c, d), '--')\n",
    "plt.show()\n",
    "\n",
    "import matplotlib.pyplot as plt\n",
    "import numpy as np\n",
    "from scipy.optimize import curve_fit\n",
    "\n",
    "m3 = [0.7, 1.0, 1.3, 1.5, 1.7]\n",
    "f3 = [0.958, 1.917, 2.875, 3.834, 4.793]\n",
    "\n",
    "mm = np.linspace(-1, 2, 5)\n",
    "\n",
    "def linear(x, a, b):\n",
    "    return a*x + b\n",
    "\n",
    "\n",
    "e,f = curve_fit(linear, m3, f3)[0]\n",
    "print(a)\n",
    "plt.xlim(0, 2)\n",
    "plt.title(\"Frictional Force verses Normal Force\")\n",
    "plt.xlabel(\"Normal Force\")\n",
    "plt.ylabel(\"Max Frictional Force (N)\")\n",
    "plt.plot(m3, f3, \".\")\n",
    "plt.plot(mm, linear(mm, e, f), '--')\n",
    "plt.show()"
   ]
  },
  {
   "cell_type": "markdown",
   "metadata": {
    "collapsed": true
   },
   "source": [
    "| $m_{added}$   | $F_{max}$     |\n",
    "|-----|-------|\n",
    "|100|1.05|\n",
    "|120|1.3|\n",
    "|200|1.65|\n",
    "|220|1.85|\n",
    "|500|2.15|"
   ]
  },
  {
   "cell_type": "code",
   "execution_count": 25,
   "metadata": {
    "collapsed": false
   },
   "outputs": [
    {
     "name": "stdout",
     "output_type": "stream",
     "text": [
      "0.00274999999865\n"
     ]
    },
    {
     "data": {
      "image/png": "[encoded data removed]",
      "text/plain": [
       "<matplotlib.figure.Figure at 0x598a400>"
      ]
     },
     "metadata": {},
     "output_type": "display_data"
    }
   ],
   "source": [
    "import matplotlib.pyplot as plt\n",
    "import numpy as np\n",
    "from scipy.optimize import curve_fit\n",
    "\n",
    "m = [100, 200, 300, 400, 500]\n",
    "f = [1.05, 1.3, 1.65, 1.85, 2.15]\n",
    "\n",
    "mm = np.linspace(-200, 550, 500)\n",
    "\n",
    "def linear(x, a, b):\n",
    "    return a*x + b\n",
    "\n",
    "a,b = curve_fit(linear, m, f)[0]\n",
    "print(a)\n",
    "plt.xlim(-200, 600)\n",
    "plt.title(\"Modeling Static Friction Without Ramp\")\n",
    "plt.xlabel(\"Mass Added (g)\")\n",
    "plt.ylabel(\"Max Frictional Force (N)\")\n",
    "plt.plot(m, f, \"*\")\n",
    "\n",
    "plt.plot(mm, linear(mm, a, b), '--')\n",
    "\n",
    "plt.show()"
   ]
  },
  {
   "cell_type": "markdown",
   "metadata": {
    "collapsed": true
   },
   "source": [
    "For this experiment we measured the amount force required to pull the box with additional masses. The first experiment we had a box on a flat surface with 100 GR added consecutively. On the second experiment we did the same thing but it was on an elevated angle. We concluded that less force was required to move the box on the elevated ramp. Less force was required because gravity and friction at the elevated angle made the box require less force to move down."
   ]
  }
 ],
 "metadata": {
  "anaconda-cloud": {},
  "kernelspec": {
   "display_name": "Python 3",
   "language": "python",
   "name": "python3"
  },
  "language_info": {
   "codemirror_mode": {
    "name": "ipython",
    "version": 3
   },
   "file_extension": ".py",
   "mimetype": "text/x-python",
   "name": "python",
   "nbconvert_exporter": "python",
   "pygments_lexer": "ipython3",
   "version": "3.4.4"
  }
 },
 "nbformat": 4,
 "nbformat_minor": 1
}
